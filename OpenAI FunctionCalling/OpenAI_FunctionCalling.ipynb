{
 "cells": [
  {
   "cell_type": "code",
   "execution_count": 1,
   "id": "28706b55",
   "metadata": {},
   "outputs": [],
   "source": [
    "import pandas as pd\n",
    "import json"
   ]
  },
  {
   "cell_type": "code",
   "execution_count": 2,
   "id": "c5f32757",
   "metadata": {},
   "outputs": [],
   "source": [
    "file_path = r\"C:\\Users\\HP\\Desktop\\Projects\\HydroPowerPlant\\HydroPowerPlant.csv\""
   ]
  },
  {
   "cell_type": "code",
   "execution_count": 3,
   "id": "2b888357",
   "metadata": {},
   "outputs": [],
   "source": [
    "df = pd.read_csv(file_path)"
   ]
  },
  {
   "cell_type": "code",
   "execution_count": 4,
   "id": "ecac404f",
   "metadata": {},
   "outputs": [
    {
     "data": {
      "text/plain": [
       "Index(['Hydropower Station Name', 'Database Status', 'ID', 'Country', 'ISO',\n",
       "       'Reservoir Name', 'Lake Name', 'Purpose', 'Admin_unit', 'Owner',\n",
       "       'Near_city', 'District', 'River', 'Main_basin', 'Catch_Area',\n",
       "       'Op_Status', 'Comissioned', 'DamComplete', 'No_Units', 'Dam_hgt',\n",
       "       'WaterHeadhgt( max)', 'WaterHeadHgt (min)', 'Res_capacityMm3',\n",
       "       'Res_area km2', 'HPP_elec_cap', 'Transm_exist', 'Transm_length',\n",
       "       'Transm_planned', 'Hydropower_Type', 'Ann_firm_gen', 'Ann_tot_gen',\n",
       "       'Lat (reservoir/dam)', 'Long (reservoir/dam)',\n",
       "       'Lat (hydropower station 1)', 'Long (hydropower station 1)',\n",
       "       'Lat (hydropower station 2)', 'Long (hydropower station 2)', 'Display',\n",
       "       'Reference 1', 'Reference 2', 'Reference 3', 'Reference 4',\n",
       "       'Reference 5', 'Reference 6', 'Reference 7', 'Reference 8',\n",
       "       'Reference 9', 'Reference 10', 'Comment', 'Column1'],\n",
       "      dtype='object')"
      ]
     },
     "execution_count": 4,
     "metadata": {},
     "output_type": "execute_result"
    }
   ],
   "source": [
    "df.columns"
   ]
  },
  {
   "cell_type": "code",
   "execution_count": 5,
   "id": "9253c707",
   "metadata": {},
   "outputs": [
    {
     "name": "stdout",
     "output_type": "stream",
     "text": [
      "Enter the name of the Hydro Power Station: Sardar Sarovar\n",
      "Matching row as dictionary\n"
     ]
    }
   ],
   "source": [
    "# Prompt the user to enter the name of the Hydro Power Station\n",
    "user_input = input(\"Enter the name of the Hydro Power Station: \")\n",
    "\n",
    "# Filter the DataFrame to get the row where 'Hydro Power Station' matches the user input\n",
    "filtered_df = df.loc[df['Hydropower Station Name'] == user_input]\n",
    "\n",
    "# Check if there are any rows that match the condition\n",
    "if not filtered_df.empty:\n",
    "    # Convert the first matching row to a dictionary\n",
    "    data = filtered_df.to_dict(orient='records')\n",
    "    print(\"Matching row as dictionary\")\n",
    "else:\n",
    "    print(f\"No rows found with 'Hydropower Station Name' as '{user_input}'\")"
   ]
  },
  {
   "cell_type": "code",
   "execution_count": 6,
   "id": "a8abc37f",
   "metadata": {},
   "outputs": [
    {
     "data": {
      "text/plain": [
       "'Sardar Sarovar'"
      ]
     },
     "execution_count": 6,
     "metadata": {},
     "output_type": "execute_result"
    }
   ],
   "source": [
    "user_input"
   ]
  },
  {
   "cell_type": "code",
   "execution_count": 7,
   "id": "ef488f9e",
   "metadata": {},
   "outputs": [
    {
     "data": {
      "text/plain": [
       "[{'Hydropower Station Name': 'Sardar Sarovar',\n",
       "  'Database Status': 'Matched with hydro station',\n",
       "  'ID': 92,\n",
       "  'Country': 'India',\n",
       "  'ISO': 'IND',\n",
       "  'Reservoir Name': 'Sardarsarovar',\n",
       "  'Lake Name': nan,\n",
       "  'Purpose': 'Irrigation, Hydropower',\n",
       "  'Admin_unit': 'Gujarat',\n",
       "  'Owner': 'GSECL',\n",
       "  'Near_city': 'Bharuch',\n",
       "  'District': nan,\n",
       "  'River': 'Narmada',\n",
       "  'Main_basin': 'Narmada',\n",
       "  'Catch_Area': '88,000',\n",
       "  'Op_Status': 'Operational',\n",
       "  'Comissioned': 'Operational since 2004',\n",
       "  'DamComplete': 2017.0,\n",
       "  'No_Units': '6+5',\n",
       "  'Dam_hgt': 163.0,\n",
       "  'WaterHeadhgt( max)': 140.21,\n",
       "  'WaterHeadHgt (min)': 110.64,\n",
       "  'Res_capacityMm3': 9500.0,\n",
       "  'Res_area km2': '348.67',\n",
       "  'HPP_elec_cap': '1450',\n",
       "  'Transm_exist': '400',\n",
       "  'Transm_length': nan,\n",
       "  'Transm_planned': nan,\n",
       "  'Hydropower_Type': 'Storage',\n",
       "  'Ann_firm_gen': nan,\n",
       "  'Ann_tot_gen': 3141.0,\n",
       "  'Lat (reservoir/dam)': 21.83439,\n",
       "  'Long (reservoir/dam)': 73.74863,\n",
       "  'Lat (hydropower station 1)': 21.83439,\n",
       "  'Long (hydropower station 1)': 73.74863,\n",
       "  'Lat (hydropower station 2)': nan,\n",
       "  'Long (hydropower station 2)': nan,\n",
       "  'Display': 'Matched Dams, Stations and Reservoirs',\n",
       "  'Reference 1': 'http://sardarsarovardam.org/',\n",
       "  'Reference 2': 'http://sardarsarovardam.org/fileman/Uploads/2.%20DETAILS%20OF%20SOLAR%20POWER%20PROJECT,%2031-3-2019.pdf',\n",
       "  'Reference 3': 'http://sardarsarovardam.org/fileman/Uploads/1.%20DETAILS%20OF%20SHP%20PROJECTS%20March-19.pdf',\n",
       "  'Reference 4': 'https://www.water-technology.net/projects/sardar-sarovar-dam-gujarat/',\n",
       "  'Reference 5': 'http://globalenergyobservatory.org/geoid/5279',\n",
       "  'Reference 6': nan,\n",
       "  'Reference 7': nan,\n",
       "  'Reference 8': nan,\n",
       "  'Reference 9': nan,\n",
       "  'Reference 10': nan,\n",
       "  'Comment': 'Hydropower - 1,450 MW installed capacity (1billion kWh every year). There are two power houses viz. River Bed Power House[RBPH] and Canal Head Power House[CHPH] an installed capacity of 1200 MW and 250 MW respectively. The powe is shared between three states - Madhya Pradesh ( 57%), Maharashtra(27%), and Gujart(16%). The Dam is completed on 17.09.2017. Solar Power Projects on Narmada Branch Canals has successfully commissioned 10MW Canal Top Solar Photovoltaic Grid Connected Power Plant on Vadodara Branch Canal in Nover-2014. [see the reference link for \"Details of Solar Power Projects of SSNNL]** Development of small Hydro Power Projects at Canal Falls at various Branch Canals are in progress undere EPC mode of implementaion for the captive use of power at pumping stations of SSNNL. A lake, named Vadgam Lake, is situated nearby according to google Earth.',\n",
       "  'Column1': nan}]"
      ]
     },
     "execution_count": 7,
     "metadata": {},
     "output_type": "execute_result"
    }
   ],
   "source": [
    "data"
   ]
  },
  {
   "cell_type": "code",
   "execution_count": 8,
   "id": "d61eafeb",
   "metadata": {},
   "outputs": [],
   "source": [
    "def get_purpose(data):\n",
    "    extracted_info = []\n",
    "    for entry in data:\n",
    "        station_name = entry.get(\"Hydropower Station Name\")\n",
    "        purpose = entry.get(\"Purpose\")\n",
    "\n",
    "        # Append the extracted information to the list\n",
    "        extracted_info.append({\n",
    "            \"Hydropower Station Name\": station_name,\n",
    "            \"Purpose\": purpose\n",
    "        })\n",
    "\n",
    "    # Convert the list of dictionaries to a JSON string\n",
    "    purpose_json = json.dumps(extracted_info)\n",
    "\n",
    "    return purpose_json"
   ]
  },
  {
   "cell_type": "code",
   "execution_count": 9,
   "id": "4391d7ee",
   "metadata": {},
   "outputs": [],
   "source": [
    "def get_owner_name(data):\n",
    "    extracted_info = []\n",
    "    for entry in data:\n",
    "        station_name = entry.get(\"Hydropower Station Name\")\n",
    "        owner = entry.get(\"Owner\")\n",
    "\n",
    "        # Append the extracted information to the list\n",
    "        extracted_info.append({\n",
    "            \"Hydropower Station Name\": station_name,\n",
    "            \"Owner\": owner\n",
    "        })\n",
    "\n",
    "    # Convert the list of dictionaries to a JSON string\n",
    "    owner_json = json.dumps(extracted_info)\n",
    "\n",
    "    return owner_json"
   ]
  },
  {
   "cell_type": "code",
   "execution_count": 10,
   "id": "35618718",
   "metadata": {},
   "outputs": [],
   "source": [
    "def get_nearest_city(data):\n",
    "    extracted_info = []\n",
    "    for entry in data:\n",
    "        station_name = entry.get(\"Hydropower Station Name\")\n",
    "        Near_city = entry.get(\"Near_city\")\n",
    "\n",
    "        # Append the extracted information to the list\n",
    "        extracted_info.append({\n",
    "            \"Hydropower Station Name\": station_name,\n",
    "            \"Near_city\": Near_city\n",
    "        })\n",
    "\n",
    "    # Convert the list of dictionaries to a JSON string\n",
    "    extracted_info = json.dumps(extracted_info)\n",
    "\n",
    "    return extracted_info"
   ]
  },
  {
   "cell_type": "code",
   "execution_count": 11,
   "id": "67df20d5",
   "metadata": {},
   "outputs": [],
   "source": [
    "def get_nearest_city_district_river(data):\n",
    "    extracted_info = []\n",
    "    for entry in data:\n",
    "        station_name = entry.get(\"Hydropower Station Name\")\n",
    "        Near_city = entry.get(\"Near_city\")\n",
    "        District = entry.get(\"District\")\n",
    "        River = entry.get(\"River\")\n",
    "\n",
    "        # Append the extracted information to the list\n",
    "        extracted_info.append({\n",
    "            \"Hydropower Station Name\": station_name,\n",
    "            \"Near_city\": Near_city,\n",
    "            \"District\": District,\n",
    "            \"River\": River          \n",
    "            \n",
    "        })\n",
    "\n",
    "    # Convert the list of dictionaries to a JSON string\n",
    "    extracted_info = json.dumps(extracted_info)\n",
    "\n",
    "    return extracted_info"
   ]
  },
  {
   "cell_type": "code",
   "execution_count": 12,
   "id": "d5decade",
   "metadata": {},
   "outputs": [],
   "source": [
    "def get_river_purpose_onwer_catchArea_AdminUnit_stats(data):\n",
    "    extracted_info = []\n",
    "    for entry in data:\n",
    "        station_name = entry.get(\"Hydropower Station Name\")\n",
    "        river = entry.get(\"River\")\n",
    "        Purpose = entry.get(\"Purpose\")\n",
    "        Owner = entry.get(\"Owner\")\n",
    "        Catch_Area = entry.get(\"Catch_Area\")\n",
    "        Res_capacityMm3 = entry.get(\"Res_capacityMm3\")\n",
    "\n",
    "        # Append the extracted information to the list\n",
    "        extracted_info.append({\n",
    "            \"Hydropower Station Name\": station_name,\n",
    "            \"River\": river,\n",
    "            \"Purpose\": Purpose,\n",
    "            \"Owner\": Owner,\n",
    "            \"Catch_Area\":Catch_Area,\n",
    "            \"Res_capacityMm3\": Res_capacityMm3\n",
    "        })\n",
    "\n",
    "    # Convert the list of dictionaries to a JSON string\n",
    "    extracted_info = json.dumps(extracted_info)\n",
    "\n",
    "    return extracted_info"
   ]
  },
  {
   "cell_type": "code",
   "execution_count": 31,
   "id": "37c4098e",
   "metadata": {},
   "outputs": [
    {
     "data": {
      "text/plain": [
       "'[{\"Hydropower Station Name\": \"Sardar Sarovar\", \"River\": \"Narmada\", \"Purpose\": \"Irrigation, Hydropower\", \"Owner\": \"GSECL\", \"Catch_Area\": \"88,000\", \"Res_capacityMm3\": 9500.0}]'"
      ]
     },
     "execution_count": 31,
     "metadata": {},
     "output_type": "execute_result"
    }
   ],
   "source": [
    "get_river_purpose_onwer_catchArea_AdminUnit_stats(data)"
   ]
  },
  {
   "cell_type": "code",
   "execution_count": 13,
   "id": "f7cac68c",
   "metadata": {},
   "outputs": [],
   "source": [
    "# import math\n",
    "# def json_to_single_sentence(json_data):\n",
    "#     sentences = []\n",
    "#     for entry in json_data:\n",
    "#         sentence = []\n",
    "#         for key, value in entry.items():\n",
    "#             if isinstance(value, float) and math.isnan(value):\n",
    "#                 value = 'N/A'\n",
    "#             sentence.append(f\"{key}: {value}\")\n",
    "#         sentences.append(\", \".join(sentence) + \".\")\n",
    "#     return sentences\n",
    "\n",
    "# # Convert JSON data to single sentences\n",
    "# sentences = json_to_single_sentence(data)"
   ]
  },
  {
   "cell_type": "code",
   "execution_count": 14,
   "id": "0b0396c8",
   "metadata": {},
   "outputs": [],
   "source": [
    "import os\n",
    "os.environ['OPENAI_API_KEY'] = \"\""
   ]
  },
  {
   "cell_type": "code",
   "execution_count": 15,
   "id": "9cee6d92",
   "metadata": {},
   "outputs": [],
   "source": [
    "from openai import OpenAI\n",
    "client = OpenAI()\n",
    "\n",
    "response = client.chat.completions.create(\n",
    "  model=\"gpt-3.5-turbo\",\n",
    "  messages=[\n",
    "    {\"role\": \"system\", \"content\": \"You are a helpful assistant.\"},\n",
    "    {\"role\": \"user\", \"content\": \"hey there!\"}\n",
    "  ]\n",
    ")"
   ]
  },
  {
   "cell_type": "code",
   "execution_count": 16,
   "id": "9342d4d7",
   "metadata": {},
   "outputs": [
    {
     "name": "stdout",
     "output_type": "stream",
     "text": [
      "ChatCompletionMessage(content='Hello! How can I assist you today?', role='assistant', function_call=None, tool_calls=None)\n"
     ]
    }
   ],
   "source": [
    "print(response.choices[0].message)"
   ]
  },
  {
   "cell_type": "code",
   "execution_count": 17,
   "id": "e1f16ce1",
   "metadata": {},
   "outputs": [],
   "source": [
    "functions = [\n",
    "        {\n",
    "            \"name\": \"get_purpose\",\n",
    "            \"description\": \"Get the the purpose of the dam from column 'Purpose'\",\n",
    "            \"parameters\": {\n",
    "                \"type\": \"object\",\n",
    "                \"properties\": {\n",
    "                    \"Hydropower Station Name\": {\n",
    "                        \"type\": \"string\",\n",
    "                        \"description\": \"Name of the Hydro Power Station(Dam), e.g. 'Nagarjuna Sagar','Sardar Sarovar'\"\n",
    "                    },\n",
    "                    \"Purpose\": {\n",
    "                        \"type\": \"string\",\n",
    "                        \"description\": \"The purpose, e.g. 'Irrigation, Hydropower', 'Hydropower', 'Thermal', 'Multi-purpose'\",\n",
    "                    },\n",
    "                    \n",
    "                },\n",
    "                \"required\": [\"Purpose\"],\n",
    "            },\n",
    "        },\n",
    "        {\n",
    "            \"name\": \"get_owner_name\",\n",
    "            \"description\": \"Get the name of the owner (firm) of the dam from column 'Owner'\",\n",
    "            \"parameters\": {\n",
    "                \"type\": \"object\",\n",
    "                \"properties\": {\n",
    "                    \"Hydropower Station Name\": {\n",
    "                        \"type\": \"string\",\n",
    "                        \"description\": \"Name of the Hydro Power Station(Dam), e.g. 'Nagarjuna Sagar','Sardar Sarovar'\"\n",
    "                    },\n",
    "                    \"Owner\": {\n",
    "                        \"type\": \"string\",\n",
    "                        \"description\": \"Name of the owner, e.g. 'APGENCO', 'GSECL', 'National Thermal Power Corporation (NTPC)'\",\n",
    "                    },\n",
    "                    \n",
    "                },\n",
    "                \"required\": [\"Owner\"],\n",
    "            },\n",
    "        },\n",
    "        {\n",
    "            \"name\": \"get_nearest_city\",\n",
    "            \"description\": \"Get the name of the nearest city connecting the dam from the column 'Near_city'\",\n",
    "            \"parameters\": {\n",
    "                \"type\": \"object\",\n",
    "                \"properties\": {\n",
    "                    \"Hydropower Station Name\": {\n",
    "                        \"type\": \"string\",\n",
    "                        \"description\": \"Name of the Hydro Power Station(Dam), e.g. 'Nagarjuna Sagar','Sardar Sarovar'\"\n",
    "                    },\n",
    "                    \"Near_city\": {\n",
    "                        \"type\": \"string\",\n",
    "                        \"description\": \"Name of the nearest city, e.g. 'Hyderabad', 'Godhra', 'Dalhousie'\",\n",
    "                    },\n",
    "                    \n",
    "                },\n",
    "                \"required\": [\"Near_city\"],\n",
    "            },\n",
    "        },\n",
    "        {\n",
    "            \"name\": \"get_nearest_city_district_river\",\n",
    "            \"description\": \"Get the name of the nearest city, District and river connecting the dam.\",\n",
    "            \"parameters\": {\n",
    "                \"type\": \"object\",\n",
    "                \"properties\": {\n",
    "                    \"Hydropower Station Name\": {\n",
    "                        \"type\": \"string\",\n",
    "                        \"description\": \"Name of the Hydro Power Station(Dam), e.g. 'Nagarjuna Sagar','Sardar Sarovar'\"\n",
    "                    },\n",
    "                    \"Near_city\": {\n",
    "                        \"type\": \"string\",\n",
    "                        \"description\": \"Name of the nearest city, e.g. 'Hyderabad', 'Godhra', 'Dalhousie'\",\n",
    "                    },\n",
    "                    \"District\": {\n",
    "                        \"type\": \"string\",\n",
    "                        \"description\": \"Name of the nearest district to the dam, e.g. 'Anantapur', 'Kangra', 'Doda'\",\n",
    "                    },\n",
    "                    \"River\": {\n",
    "                        \"type\": \"string\",\n",
    "                        \"description\": \"Name of the river connecting to the dam, e.g. 'Krishna', 'Beas', 'Tapi'\",\n",
    "                    },\n",
    "                    \n",
    "                },\n",
    "                \"required\": [\"Near_city\", \"District\", \"River\"],\n",
    "            },\n",
    "        },\n",
    "        {\n",
    "            \"name\": \"get_river_purpose_onwer_catchArea_AdminUnit_stats\",\n",
    "            \"description\": \"Get the name of the nearest city, District and river connecting the dam.\",\n",
    "            \"parameters\": {\n",
    "                \"type\": \"object\",\n",
    "                \"properties\": {\n",
    "                    \"Hydropower Station Name\": {\n",
    "                        \"type\": \"string\",\n",
    "                        \"description\": \"Name of the Hydro Power Station(Dam), e.g. 'Nagarjuna Sagar','Sardar Sarovar'\"\n",
    "                    },\n",
    "                    \"River\": {\n",
    "                        \"type\": \"string\",\n",
    "                        \"description\": \"Name of the river connecting to the dam, e.g. 'Krishna', 'Beas', 'Tapi'\",\n",
    "                    },\n",
    "                    \"Purpose\": {\n",
    "                        \"type\": \"string\",\n",
    "                        \"description\": \"The purpose, e.g. 'Irrigation, Hydropower', 'Hydropower', 'Thermal', 'Multi-purpose'\"\n",
    "                    },\n",
    "                    \"Owner\": {\n",
    "                        \"type\": \"string\",\n",
    "                        \"description\": \"Name of the owner, e.g. 'APGENCO', 'GSECL', 'National Thermal Power Corporation (NTPC)'\"\n",
    "                    },\n",
    "                    \"Catch_Area\": {\n",
    "                        \"type\": \"string\",\n",
    "                        \"description\": \"The catchment area of a dam, e.g. '6730', '6155'\"\n",
    "                    },\n",
    "                    \"Res_capacityMm3\": {\n",
    "                        \"type\": \"string\",\n",
    "                        \"description\": \"The Res_capacityMm3 of the dam refers to the reservoir capacity of the dam, measured in million cubic meters (Mm³). It indicates the total volume of water that the dam's reservoir can hold.\"\n",
    "                    },\n",
    "                },\n",
    "                \"required\": [\"Hydropower Station Name\", \"River\", \"Purpose\",\"Owner\",\"Catch_Area\",\"Res_capacityMm3\"],\n",
    "            },\n",
    "        },\n",
    "    ]"
   ]
  },
  {
   "cell_type": "code",
   "execution_count": 18,
   "id": "3a132e31",
   "metadata": {},
   "outputs": [
    {
     "data": {
      "text/plain": [
       "[{'name': 'get_purpose',\n",
       "  'description': \"Get the the purpose of the dam from column 'Purpose'\",\n",
       "  'parameters': {'type': 'object',\n",
       "   'properties': {'Hydropower Station Name': {'type': 'string',\n",
       "     'description': \"Name of the Hydro Power Station(Dam), e.g. 'Nagarjuna Sagar','Sardar Sarovar'\"},\n",
       "    'Purpose': {'type': 'string',\n",
       "     'description': \"The purpose, e.g. 'Irrigation, Hydropower', 'Hydropower', 'Thermal', 'Multi-purpose'\"}},\n",
       "   'required': ['Purpose']}},\n",
       " {'name': 'get_owner_name',\n",
       "  'description': \"Get the name of the owner (firm) of the dam from column 'Owner'\",\n",
       "  'parameters': {'type': 'object',\n",
       "   'properties': {'Hydropower Station Name': {'type': 'string',\n",
       "     'description': \"Name of the Hydro Power Station(Dam), e.g. 'Nagarjuna Sagar','Sardar Sarovar'\"},\n",
       "    'Owner': {'type': 'string',\n",
       "     'description': \"Name of the owner, e.g. 'APGENCO', 'GSECL', 'National Thermal Power Corporation (NTPC)'\"}},\n",
       "   'required': ['Owner']}},\n",
       " {'name': 'get_nearest_city',\n",
       "  'description': \"Get the name of the nearest city connecting the dam from the column 'Near_city'\",\n",
       "  'parameters': {'type': 'object',\n",
       "   'properties': {'Hydropower Station Name': {'type': 'string',\n",
       "     'description': \"Name of the Hydro Power Station(Dam), e.g. 'Nagarjuna Sagar','Sardar Sarovar'\"},\n",
       "    'Near_city': {'type': 'string',\n",
       "     'description': \"Name of the nearest city, e.g. 'Hyderabad', 'Godhra', 'Dalhousie'\"}},\n",
       "   'required': ['Near_city']}},\n",
       " {'name': 'get_nearest_city_district_river',\n",
       "  'description': 'Get the name of the nearest city, District and river connecting the dam.',\n",
       "  'parameters': {'type': 'object',\n",
       "   'properties': {'Hydropower Station Name': {'type': 'string',\n",
       "     'description': \"Name of the Hydro Power Station(Dam), e.g. 'Nagarjuna Sagar','Sardar Sarovar'\"},\n",
       "    'Near_city': {'type': 'string',\n",
       "     'description': \"Name of the nearest city, e.g. 'Hyderabad', 'Godhra', 'Dalhousie'\"},\n",
       "    'District': {'type': 'string',\n",
       "     'description': \"Name of the nearest district to the dam, e.g. 'Anantapur', 'Kangra', 'Doda'\"},\n",
       "    'River': {'type': 'string',\n",
       "     'description': \"Name of the river connecting to the dam, e.g. 'Krishna', 'Beas', 'Tapi'\"}},\n",
       "   'required': ['Near_city', 'District', 'River']}},\n",
       " {'name': 'get_river_purpose_onwer_catchArea_AdminUnit_stats',\n",
       "  'description': 'Get the name of the nearest city, District and river connecting the dam.',\n",
       "  'parameters': {'type': 'object',\n",
       "   'properties': {'Hydropower Station Name': {'type': 'string',\n",
       "     'description': \"Name of the Hydro Power Station(Dam), e.g. 'Nagarjuna Sagar','Sardar Sarovar'\"},\n",
       "    'River': {'type': 'string',\n",
       "     'description': \"Name of the river connecting to the dam, e.g. 'Krishna', 'Beas', 'Tapi'\"},\n",
       "    'Purpose': {'type': 'string',\n",
       "     'description': \"The purpose, e.g. 'Irrigation, Hydropower', 'Hydropower', 'Thermal', 'Multi-purpose'\"},\n",
       "    'Owner': {'type': 'string',\n",
       "     'description': \"Name of the owner, e.g. 'APGENCO', 'GSECL', 'National Thermal Power Corporation (NTPC)'\"},\n",
       "    'Catch_Area': {'type': 'string',\n",
       "     'description': \"The catchment area of a dam, e.g. '6730', '6155'\"},\n",
       "    'Res_capacityMm3': {'type': 'string',\n",
       "     'description': \"The Res_capacityMm3 of the dam refers to the reservoir capacity of the dam, measured in million cubic meters (Mm³). It indicates the total volume of water that the dam's reservoir can hold.\"}},\n",
       "   'required': ['Hydropower Station Name',\n",
       "    'River',\n",
       "    'Purpose',\n",
       "    'Owner',\n",
       "    'Catch_Area',\n",
       "    'Res_capacityMm3']}}]"
      ]
     },
     "execution_count": 18,
     "metadata": {},
     "output_type": "execute_result"
    }
   ],
   "source": [
    "functions"
   ]
  },
  {
   "cell_type": "code",
   "execution_count": 38,
   "id": "821ab2d2",
   "metadata": {},
   "outputs": [],
   "source": [
    "user_message= f\"Who is the owner of the {user_input} dam.\"\n",
    "messages=[]\n",
    "messages.append({\"role\": \"user\", \"content\": user_message})\n",
    "completion=client.chat.completions.create(\n",
    "    model=\"gpt-3.5-turbo\",\n",
    "    temperature = 0.0,\n",
    "    messages=messages,\n",
    "    functions=functions,\n",
    "    function_call=\"auto\",    \n",
    ")"
   ]
  },
  {
   "cell_type": "code",
   "execution_count": 39,
   "id": "d51fe7ea",
   "metadata": {},
   "outputs": [
    {
     "data": {
      "text/plain": [
       "[{'role': 'user', 'content': 'Who is the owner of the Sardar Sarovar dam.'}]"
      ]
     },
     "execution_count": 39,
     "metadata": {},
     "output_type": "execute_result"
    }
   ],
   "source": [
    "messages"
   ]
  },
  {
   "cell_type": "code",
   "execution_count": 40,
   "id": "249a1ec6",
   "metadata": {},
   "outputs": [
    {
     "name": "stdout",
     "output_type": "stream",
     "text": [
      "ChatCompletionMessage(content=None, role='assistant', function_call=FunctionCall(arguments='{\"Hydropower Station Name\":\"Sardar Sarovar\",\"Owner\":\"Sardar Sarovar Narmada Nigam Limited (SSNNL)\"}', name='get_owner_name'), tool_calls=None)\n"
     ]
    }
   ],
   "source": [
    "print(completion.choices[0].message)"
   ]
  },
  {
   "cell_type": "code",
   "execution_count": 41,
   "id": "68561829",
   "metadata": {},
   "outputs": [],
   "source": [
    "response = completion.choices[0].message"
   ]
  },
  {
   "cell_type": "code",
   "execution_count": 42,
   "id": "0b08fefe",
   "metadata": {},
   "outputs": [],
   "source": [
    "function_name = response.function_call.name"
   ]
  },
  {
   "cell_type": "code",
   "execution_count": 43,
   "id": "b736907d",
   "metadata": {},
   "outputs": [
    {
     "data": {
      "text/plain": [
       "'get_owner_name'"
      ]
     },
     "execution_count": 43,
     "metadata": {},
     "output_type": "execute_result"
    }
   ],
   "source": [
    "function_name"
   ]
  },
  {
   "cell_type": "code",
   "execution_count": 44,
   "id": "e8557666",
   "metadata": {},
   "outputs": [],
   "source": [
    "dam_name = response.function_call.arguments"
   ]
  },
  {
   "cell_type": "code",
   "execution_count": 45,
   "id": "9381f8c2",
   "metadata": {},
   "outputs": [
    {
     "data": {
      "text/plain": [
       "'{\"Hydropower Station Name\":\"Sardar Sarovar\",\"Owner\":\"Sardar Sarovar Narmada Nigam Limited (SSNNL)\"}'"
      ]
     },
     "execution_count": 45,
     "metadata": {},
     "output_type": "execute_result"
    }
   ],
   "source": [
    "dam_name"
   ]
  },
  {
   "cell_type": "code",
   "execution_count": 47,
   "id": "8289bbc7",
   "metadata": {},
   "outputs": [],
   "source": [
    "messages.append(response)\n",
    "messages.append(\n",
    "    {\n",
    "        \"role\": \"function\",\n",
    "        \"name\": function_name,\n",
    "        \"content\": dam_name\n",
    "    }\n",
    ")"
   ]
  },
  {
   "cell_type": "code",
   "execution_count": 48,
   "id": "5dbbe844",
   "metadata": {},
   "outputs": [],
   "source": [
    "second_response=client.chat.completions.create(\n",
    "    model=\"gpt-3.5-turbo\",\n",
    "    temperature = 0.0,\n",
    "    messages=messages,\n",
    "    functions=functions\n",
    ")"
   ]
  },
  {
   "cell_type": "code",
   "execution_count": 49,
   "id": "3a9ef450",
   "metadata": {},
   "outputs": [
    {
     "data": {
      "text/plain": [
       "ChatCompletionMessage(content='The owner of the Sardar Sarovar dam is Sardar Sarovar Narmada Nigam Limited (SSNNL).', role='assistant', function_call=None, tool_calls=None)"
      ]
     },
     "execution_count": 49,
     "metadata": {},
     "output_type": "execute_result"
    }
   ],
   "source": [
    "second_response.choices[0].message"
   ]
  },
  {
   "cell_type": "code",
   "execution_count": null,
   "id": "5d8d74b9",
   "metadata": {},
   "outputs": [],
   "source": []
  },
  {
   "cell_type": "code",
   "execution_count": null,
   "id": "48da1c3d",
   "metadata": {},
   "outputs": [],
   "source": []
  }
 ],
 "metadata": {
  "kernelspec": {
   "display_name": "Python 3 (ipykernel)",
   "language": "python",
   "name": "python3"
  },
  "language_info": {
   "codemirror_mode": {
    "name": "ipython",
    "version": 3
   },
   "file_extension": ".py",
   "mimetype": "text/x-python",
   "name": "python",
   "nbconvert_exporter": "python",
   "pygments_lexer": "ipython3",
   "version": "3.9.12"
  }
 },
 "nbformat": 4,
 "nbformat_minor": 5
}
