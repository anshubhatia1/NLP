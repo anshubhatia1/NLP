{
 "cells": [
  {
   "cell_type": "code",
   "execution_count": 1,
   "id": "4f53d67e",
   "metadata": {},
   "outputs": [],
   "source": [
    "from langchain_core.prompts import ChatPromptTemplate\n",
    "from langchain_groq import ChatGroq"
   ]
  },
  {
   "cell_type": "code",
   "execution_count": 2,
   "id": "312a584e",
   "metadata": {},
   "outputs": [],
   "source": [
    "GROQ_API_KEY= \"\""
   ]
  },
  {
   "cell_type": "code",
   "execution_count": 3,
   "id": "a97b5c40",
   "metadata": {},
   "outputs": [],
   "source": [
    "from langchain_community.document_loaders import PyPDFDirectoryLoader"
   ]
  },
  {
   "cell_type": "code",
   "execution_count": 4,
   "id": "2778e100",
   "metadata": {},
   "outputs": [],
   "source": [
    "loader = PyPDFDirectoryLoader(r\"C:/Users/HP/Desktop/Projects/InsuranceTracker/Health Insurance/\")"
   ]
  },
  {
   "cell_type": "code",
   "execution_count": 5,
   "id": "0ed20757",
   "metadata": {},
   "outputs": [],
   "source": [
    "docs = loader.load()"
   ]
  },
  {
   "cell_type": "code",
   "execution_count": 6,
   "id": "850ba689",
   "metadata": {},
   "outputs": [],
   "source": [
    "from langchain_text_splitters import RecursiveCharacterTextSplitter\n",
    "text_splitter = RecursiveCharacterTextSplitter(\n",
    "    chunk_size=2000,\n",
    "    chunk_overlap=200,\n",
    "    length_function=len,\n",
    ")"
   ]
  },
  {
   "cell_type": "code",
   "execution_count": 7,
   "id": "8cb68104",
   "metadata": {},
   "outputs": [],
   "source": [
    "documents = text_splitter.split_documents(docs)"
   ]
  },
  {
   "cell_type": "code",
   "execution_count": 8,
   "id": "a62eb5fe",
   "metadata": {},
   "outputs": [
    {
     "data": {
      "text/plain": [
       "528"
      ]
     },
     "execution_count": 8,
     "metadata": {},
     "output_type": "execute_result"
    }
   ],
   "source": [
    "len(documents)"
   ]
  },
  {
   "cell_type": "code",
   "execution_count": 12,
   "id": "07ce8dc0",
   "metadata": {},
   "outputs": [
    {
     "name": "stdout",
     "output_type": "stream",
     "text": [
      "OpenAI API Key:········\n"
     ]
    }
   ],
   "source": [
    "import os\n",
    "import getpass\n",
    "\n",
    "os.environ['OPENAI_API_KEY'] = getpass.getpass('OpenAI API Key:')"
   ]
  },
  {
   "cell_type": "code",
   "execution_count": 13,
   "id": "a2c8f826",
   "metadata": {},
   "outputs": [],
   "source": [
    "from langchain_chroma import Chroma\n",
    "from langchain_openai import OpenAIEmbeddings\n",
    "db = Chroma.from_documents(documents, OpenAIEmbeddings())"
   ]
  },
  {
   "cell_type": "code",
   "execution_count": 14,
   "id": "56e873c6",
   "metadata": {},
   "outputs": [],
   "source": [
    "from langchain import hub\n",
    "from langchain_core.runnables import RunnablePassthrough\n",
    "from langchain_core.output_parsers import StrOutputParser\n",
    "\n",
    "def format_docs(docs):\n",
    "    return \"\\n\\n\".join(doc.page_content for doc in docs)\n",
    "\n",
    "def health_insurance_RAG(query):\n",
    "    prompt = hub.pull(\"rlm/rag-prompt\")\n",
    "    llm = ChatGroq(temperature=0, groq_api_key=GROQ_API_KEY, model_name=\"llama3-70b-8192\")\n",
    "    retriever = db.as_retriever(search_kwargs={\"k\": 10})\n",
    "    rag_chain = (\n",
    "        {\"context\": retriever, \"question\": RunnablePassthrough()}\n",
    "        | prompt\n",
    "        | llm\n",
    "        | StrOutputParser()\n",
    "    )\n",
    "    output = rag_chain.invoke(query)\n",
    "    return output"
   ]
  },
  {
   "cell_type": "code",
   "execution_count": 15,
   "id": "5a0c9ee1",
   "metadata": {},
   "outputs": [
    {
     "data": {
      "text/plain": [
       "'The coverage for vaccinations under TATA AIG Health Insurance is as follows:\\n\\n* First-year vaccinations are covered up to `10,000 (`15,000 for a girl child) provided the maternity claim is admitted.\\n* Vaccination cover is available for certain vaccines, including Anti-rabies vaccine following an animal bite, Typhoid vaccination, Human Papilloma Virus (HPV) vaccine, and Hepatitis B Vaccine, without any waiting period for sums insured up to `50 Lakhs, and after 2 years of continuous coverage for sums insured above `50 Lakhs.'"
      ]
     },
     "execution_count": 15,
     "metadata": {},
     "output_type": "execute_result"
    }
   ],
   "source": [
    "health_insurance_RAG(\"What is the coverage for vaccinations under TATA AIG Health Insurance, and up to what amount are they covered?\")"
   ]
  },
  {
   "cell_type": "code",
   "execution_count": 16,
   "id": "023f7ab9",
   "metadata": {},
   "outputs": [],
   "source": [
    "from langchain.agents.agent_types import AgentType\n",
    "from langchain_experimental.agents.agent_toolkits import create_csv_agent\n",
    "from langchain_openai import ChatOpenAI, OpenAI\n",
    "def PremiumTracker(query):\n",
    "    agent = create_csv_agent(\n",
    "        ChatOpenAI(temperature=0, model=\"gpt-3.5-turbo-0613\"),\n",
    "        r\"C:\\Users\\HP\\Desktop\\Projects\\InsuranceTracker\\Health Insurance\\Premium.csv\",\n",
    "        verbose=True,\n",
    "        agent_type=AgentType.OPENAI_FUNCTIONS,\n",
    "    )\n",
    "    output = agent.run(query)\n",
    "    return output"
   ]
  },
  {
   "cell_type": "code",
   "execution_count": 17,
   "id": "0b9c3fc9",
   "metadata": {},
   "outputs": [
    {
     "name": "stderr",
     "output_type": "stream",
     "text": [
      "C:\\Users\\HP\\anaconda3\\lib\\site-packages\\langchain_core\\_api\\deprecation.py:119: LangChainDeprecationWarning: The method `Chain.run` was deprecated in langchain 0.1.0 and will be removed in 0.2.0. Use invoke instead.\n",
      "  warn_deprecated(\n"
     ]
    },
    {
     "name": "stdout",
     "output_type": "stream",
     "text": [
      "\n",
      "\n",
      "\u001b[1m> Entering new AgentExecutor chain...\u001b[0m\n",
      "\u001b[32;1m\u001b[1;3m\n",
      "Invoking: `python_repl_ast` with `{'query': \"df[df['Premium_1Year'] == df['Premium_1Year'].min()]['Insurance Plan']\"}`\n",
      "\n",
      "\n",
      "\u001b[0m\u001b[36;1m\u001b[1;3m0    Aspire Gold+ Combo\n",
      "Name: Insurance Plan, dtype: object\u001b[0m\u001b[32;1m\u001b[1;3mThe insurance plan with the lowest 1-Year Premium is \"Aspire Gold+ Combo\".\u001b[0m\n",
      "\n",
      "\u001b[1m> Finished chain.\u001b[0m\n"
     ]
    },
    {
     "data": {
      "text/plain": [
       "'The insurance plan with the lowest 1-Year Premium is \"Aspire Gold+ Combo\".'"
      ]
     },
     "execution_count": 17,
     "metadata": {},
     "output_type": "execute_result"
    }
   ],
   "source": [
    "PremiumTracker(\"Which Insurance Plan has the lowest 1-Year Premium\")"
   ]
  },
  {
   "cell_type": "code",
   "execution_count": 18,
   "id": "1ab45534",
   "metadata": {},
   "outputs": [],
   "source": [
    "from langchain.agents import Tool\n",
    "from langchain.tools import BaseTool\n",
    "policy_document_tool = Tool(\n",
    "    name = \"content\",\n",
    "    func = health_insurance_RAG,\n",
    "    description= \"use to answer user questions related to policy rules, regulations, and other aspects of health insurance policy documents.\"\n",
    ")"
   ]
  },
  {
   "cell_type": "code",
   "execution_count": 19,
   "id": "4bd5f4fd",
   "metadata": {},
   "outputs": [],
   "source": [
    "premium_trackr_tool = Tool(\n",
    "    name = \"premium\",\n",
    "    func = PremiumTracker,\n",
    "    description= \"use to query Premium related queries for Health Insurance Plans\"\n",
    ")"
   ]
  },
  {
   "cell_type": "code",
   "execution_count": 20,
   "id": "3662a840",
   "metadata": {},
   "outputs": [],
   "source": [
    "tools = [policy_document_tool, premium_trackr_tool]"
   ]
  },
  {
   "cell_type": "markdown",
   "id": "e6afad5f",
   "metadata": {},
   "source": [
    "## creating Agent"
   ]
  },
  {
   "cell_type": "code",
   "execution_count": 21,
   "id": "b0f79591",
   "metadata": {},
   "outputs": [],
   "source": [
    "from langchain.agents import initialize_agent, AgentType\n",
    "from langchain.memory import ConversationBufferWindowMemory"
   ]
  },
  {
   "cell_type": "code",
   "execution_count": 75,
   "id": "b925139e",
   "metadata": {},
   "outputs": [],
   "source": [
    "from langchain_core.prompts import ChatPromptTemplate, MessagesPlaceholder\n",
    "\n",
    "prompt = ChatPromptTemplate.from_messages(\n",
    "    [\n",
    "        (\n",
    "            \"system\",\n",
    "            \"You are a very powerful assistant. Your job is to answer user-specific questions. you should first check the intent of the question. If the intent is specifically about premium, it should refer to the premium tool. For other queries, it should refer to the content tool.\",\n",
    "        ),\n",
    "        (\"user\", \"{input}\"),\n",
    "        MessagesPlaceholder(variable_name=\"agent_scratchpad\"),\n",
    "    ]\n",
    ")"
   ]
  },
  {
   "cell_type": "code",
   "execution_count": 76,
   "id": "f936a133",
   "metadata": {},
   "outputs": [],
   "source": [
    "from langchain_openai import ChatOpenAI\n",
    "\n",
    "llm = ChatOpenAI(model=\"gpt-4-turbo\", temperature=0.5)"
   ]
  },
  {
   "cell_type": "code",
   "execution_count": 77,
   "id": "ea8bc013",
   "metadata": {},
   "outputs": [],
   "source": [
    "llm_with_tools = llm.bind_tools(tools)"
   ]
  },
  {
   "cell_type": "code",
   "execution_count": 78,
   "id": "52238b97",
   "metadata": {},
   "outputs": [],
   "source": [
    "from langchain.agents.format_scratchpad.openai_tools import (\n",
    "    format_to_openai_tool_messages,\n",
    ")\n",
    "from langchain.agents.output_parsers.openai_tools import OpenAIToolsAgentOutputParser\n",
    "\n",
    "agent = (\n",
    "    {\n",
    "        \"input\": lambda x: x[\"input\"],\n",
    "        \"agent_scratchpad\": lambda x: format_to_openai_tool_messages(\n",
    "            x[\"intermediate_steps\"]\n",
    "        ),\n",
    "    }\n",
    "    | prompt\n",
    "    | llm_with_tools\n",
    "    | OpenAIToolsAgentOutputParser()\n",
    ")"
   ]
  },
  {
   "cell_type": "code",
   "execution_count": 79,
   "id": "964a9696",
   "metadata": {},
   "outputs": [
    {
     "data": {
      "text/plain": [
       "ChatPromptTemplate(input_variables=['agent_scratchpad', 'input'], input_types={'agent_scratchpad': typing.List[typing.Union[langchain_core.messages.ai.AIMessage, langchain_core.messages.human.HumanMessage, langchain_core.messages.chat.ChatMessage, langchain_core.messages.system.SystemMessage, langchain_core.messages.function.FunctionMessage, langchain_core.messages.tool.ToolMessage]]}, messages=[SystemMessagePromptTemplate(prompt=PromptTemplate(input_variables=[], template='You are a very powerful assistant. Your job is to answer user-specific questions. you should first check the intent of the question. If the intent is specifically about premium, it should refer to the premium tool. For other queries, it should refer to the content tool.')), HumanMessagePromptTemplate(prompt=PromptTemplate(input_variables=['input'], template='{input}')), MessagesPlaceholder(variable_name='agent_scratchpad')])"
      ]
     },
     "execution_count": 79,
     "metadata": {},
     "output_type": "execute_result"
    }
   ],
   "source": [
    "prompt"
   ]
  },
  {
   "cell_type": "code",
   "execution_count": 80,
   "id": "49d707f6",
   "metadata": {},
   "outputs": [],
   "source": [
    "from langchain.agents import AgentExecutor\n",
    "\n",
    "agent_executor = AgentExecutor(agent=agent, tools=tools, verbose=True,handle_parsing_errors=True)"
   ]
  },
  {
   "cell_type": "code",
   "execution_count": 81,
   "id": "002f0e6f",
   "metadata": {},
   "outputs": [
    {
     "data": {
      "text/plain": [
       "AgentExecutor(verbose=True, agent=RunnableMultiActionAgent(runnable={\n",
       "  input: RunnableLambda(...),\n",
       "  agent_scratchpad: RunnableLambda(...)\n",
       "}\n",
       "| ChatPromptTemplate(input_variables=['agent_scratchpad', 'input'], input_types={'agent_scratchpad': typing.List[typing.Union[langchain_core.messages.ai.AIMessage, langchain_core.messages.human.HumanMessage, langchain_core.messages.chat.ChatMessage, langchain_core.messages.system.SystemMessage, langchain_core.messages.function.FunctionMessage, langchain_core.messages.tool.ToolMessage]]}, messages=[SystemMessagePromptTemplate(prompt=PromptTemplate(input_variables=[], template='You are a very powerful assistant. Your job is to answer user-specific questions. you should first check the intent of the question. If the intent is specifically about premium, it should refer to the premium tool. For other queries, it should refer to the content tool.')), HumanMessagePromptTemplate(prompt=PromptTemplate(input_variables=['input'], template='{input}')), MessagesPlaceholder(variable_name='agent_scratchpad')])\n",
       "| RunnableBinding(bound=ChatOpenAI(client=<openai.resources.chat.completions.Completions object at 0x00000241454A8D00>, async_client=<openai.resources.chat.completions.AsyncCompletions object at 0x00000241454D7640>, model_name='gpt-4-turbo', temperature=0.5, openai_api_key=SecretStr('**********'), openai_proxy=''), kwargs={'tools': [{'type': 'function', 'function': {'name': 'content', 'description': 'use to answer user questions related to policy rules, regulations, and other aspects of health insurance policy documents.', 'parameters': {'properties': {'__arg1': {'title': '__arg1', 'type': 'string'}}, 'required': ['__arg1'], 'type': 'object'}}}, {'type': 'function', 'function': {'name': 'premium', 'description': 'use to query Premium related queries for Health Insurance Plans', 'parameters': {'properties': {'__arg1': {'title': '__arg1', 'type': 'string'}}, 'required': ['__arg1'], 'type': 'object'}}}]})\n",
       "| OpenAIToolsAgentOutputParser(), input_keys_arg=[], return_keys_arg=[], stream_runnable=True), tools=[Tool(name='content', description='use to answer user questions related to policy rules, regulations, and other aspects of health insurance policy documents.', func=<function health_insurance_RAG at 0x000002413B67CD30>), Tool(name='premium', description='use to query Premium related queries for Health Insurance Plans', func=<function PremiumTracker at 0x0000024136C3EDC0>)], handle_parsing_errors=True)"
      ]
     },
     "execution_count": 81,
     "metadata": {},
     "output_type": "execute_result"
    }
   ],
   "source": [
    "agent_executor"
   ]
  },
  {
   "cell_type": "code",
   "execution_count": 82,
   "id": "a627c64a",
   "metadata": {},
   "outputs": [
    {
     "name": "stdout",
     "output_type": "stream",
     "text": [
      "\n",
      "\n",
      "\u001b[1m> Entering new AgentExecutor chain...\u001b[0m\n",
      "\u001b[32;1m\u001b[1;3m\n",
      "Invoking: `content` with `cancer-related coverage policies for HDFC ERGO Optima Secure`\n",
      "\n",
      "\n",
      "\u001b[0m\u001b[36;1m\u001b[1;3mHDFC ERGO Optima Secure policy provides cancer-related coverage under its base coverage, which includes hospitalization expenses, day care treatment, and domiciliary hospitalization. Additionally, it offers optional covers such as my: health Critical Illness Add On, which provides a lump sum payment in case of diagnosis of a critical illness, including cancer.\u001b[0m\u001b[32;1m\u001b[1;3m\n",
      "Invoking: `premium` with `3 Year premium for HDFC ERGO Optima Secure`\n",
      "\n",
      "\n",
      "\u001b[0m\n",
      "\n",
      "\u001b[1m> Entering new AgentExecutor chain...\u001b[0m\n",
      "\u001b[32;1m\u001b[1;3m\n",
      "Invoking: `python_repl_ast` with `{'query': \"df[df['Insurance Plan'] == 'Optima Secur']['Premium_3Year'].values[0]\"}`\n",
      "\n",
      "\n",
      "\u001b[0m\u001b[36;1m\u001b[1;3m68401\u001b[0m\u001b[32;1m\u001b[1;3mThe 3-year premium for HDFC ERGO Optima Secure is 68,401.\u001b[0m\n",
      "\n",
      "\u001b[1m> Finished chain.\u001b[0m\n",
      "\u001b[33;1m\u001b[1;3mThe 3-year premium for HDFC ERGO Optima Secure is 68,401.\u001b[0m\u001b[32;1m\u001b[1;3mHere are the key details and insights:\n",
      "\n",
      "- **Cancer-Related Coverage in HDFC ERGO Optima Secure**:\n",
      "  - Includes hospitalization expenses, day care treatment, and domiciliary hospitalization under its base coverage.\n",
      "  - Offers an optional cover, my: health Critical Illness Add On, which provides a lump sum payment upon diagnosis of critical illnesses including cancer.\n",
      "\n",
      "- **3-Year Premium for HDFC ERGO Optima Secure**:\n",
      "  - The premium amount for a three-year term is ₹68,401.\u001b[0m\n",
      "\n",
      "\u001b[1m> Finished chain.\u001b[0m\n"
     ]
    }
   ],
   "source": [
    "result = list(agent_executor.stream({\"input\": \"Provide all the details on cancer-related coverage policies for HDFC ERGO Optima Secure in less than 2 sentences. What is 3 Year premium for HDFC ERGO Optima Secure. Summarize the key insights in bullet points.\"}))"
   ]
  },
  {
   "cell_type": "code",
   "execution_count": 85,
   "id": "4538eba6",
   "metadata": {},
   "outputs": [],
   "source": [
    "# The key we want to check for\n",
    "first_key = 'output'\n",
    "# Filter the list to include only dictionaries that have the first_key\n",
    "filtered_data = [d for d in result if first_key in d]"
   ]
  },
  {
   "cell_type": "code",
   "execution_count": 86,
   "id": "4470b721",
   "metadata": {},
   "outputs": [
    {
     "data": {
      "text/plain": [
       "'Here are the key details and insights:\\n\\n- **Cancer-Related Coverage in HDFC ERGO Optima Secure**:\\n  - Includes hospitalization expenses, day care treatment, and domiciliary hospitalization under its base coverage.\\n  - Offers an optional cover, my: health Critical Illness Add On, which provides a lump sum payment upon diagnosis of critical illnesses including cancer.\\n\\n- **3-Year Premium for HDFC ERGO Optima Secure**:\\n  - The premium amount for a three-year term is ₹68,401.'"
      ]
     },
     "execution_count": 86,
     "metadata": {},
     "output_type": "execute_result"
    }
   ],
   "source": [
    "filtered_data[0]['output']"
   ]
  },
  {
   "cell_type": "code",
   "execution_count": null,
   "id": "d782a8c1",
   "metadata": {},
   "outputs": [],
   "source": []
  },
  {
   "cell_type": "code",
   "execution_count": null,
   "id": "7d027574",
   "metadata": {},
   "outputs": [],
   "source": []
  }
 ],
 "metadata": {
  "kernelspec": {
   "display_name": "Python 3 (ipykernel)",
   "language": "python",
   "name": "python3"
  },
  "language_info": {
   "codemirror_mode": {
    "name": "ipython",
    "version": 3
   },
   "file_extension": ".py",
   "mimetype": "text/x-python",
   "name": "python",
   "nbconvert_exporter": "python",
   "pygments_lexer": "ipython3",
   "version": "3.9.12"
  }
 },
 "nbformat": 4,
 "nbformat_minor": 5
}
