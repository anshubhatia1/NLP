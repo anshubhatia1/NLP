{
 "cells": [
  {
   "cell_type": "code",
   "execution_count": 1,
   "id": "42542433",
   "metadata": {},
   "outputs": [],
   "source": [
    "from langchain_core.prompts import ChatPromptTemplate\n",
    "from langchain_groq import ChatGroq"
   ]
  },
  {
   "cell_type": "code",
   "execution_count": 2,
   "id": "87015ff7",
   "metadata": {},
   "outputs": [],
   "source": [
    "GROQ_API_KEY= \"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\""
   ]
  },
  {
   "cell_type": "code",
   "execution_count": 3,
   "id": "8e2e4fc2",
   "metadata": {},
   "outputs": [],
   "source": [
    "from langchain_community.document_loaders import PyPDFDirectoryLoader\n",
    "from langchain.document_loaders import PyPDFLoader"
   ]
  },
  {
   "cell_type": "code",
   "execution_count": 4,
   "id": "952bf5f8",
   "metadata": {},
   "outputs": [],
   "source": [
    "loader = PyPDFLoader(\"C:/Users/HP/Desktop/Projects/InsuranceTracker/Health Insurance/Aspire_Prospectus.pdf\")\n",
    "documents = loader.load()"
   ]
  },
  {
   "cell_type": "code",
   "execution_count": 5,
   "id": "3dc9daa2",
   "metadata": {},
   "outputs": [
    {
     "data": {
      "text/plain": [
       "30"
      ]
     },
     "execution_count": 5,
     "metadata": {},
     "output_type": "execute_result"
    }
   ],
   "source": [
    "len(documents)"
   ]
  },
  {
   "cell_type": "code",
   "execution_count": 6,
   "id": "07f90df4",
   "metadata": {},
   "outputs": [],
   "source": [
    "from langchain_text_splitters import RecursiveCharacterTextSplitter\n",
    "text_splitter = RecursiveCharacterTextSplitter(\n",
    "    chunk_size=2000,\n",
    "    chunk_overlap=200,\n",
    "    length_function=len,\n",
    ")"
   ]
  },
  {
   "cell_type": "code",
   "execution_count": 7,
   "id": "ca835bae",
   "metadata": {},
   "outputs": [],
   "source": [
    "documents = text_splitter.split_documents(documents)"
   ]
  },
  {
   "cell_type": "code",
   "execution_count": 8,
   "id": "11ca85d4",
   "metadata": {},
   "outputs": [
    {
     "data": {
      "text/plain": [
       "65"
      ]
     },
     "execution_count": 8,
     "metadata": {},
     "output_type": "execute_result"
    }
   ],
   "source": [
    "len(documents)"
   ]
  },
  {
   "cell_type": "code",
   "execution_count": 9,
   "id": "b73f8dc4",
   "metadata": {},
   "outputs": [
    {
     "name": "stdout",
     "output_type": "stream",
     "text": [
      "OpenAI API Key:········\n"
     ]
    }
   ],
   "source": [
    "import os\n",
    "import getpass\n",
    "\n",
    "os.environ['OPENAI_API_KEY'] = getpass.getpass('OpenAI API Key:')"
   ]
  },
  {
   "cell_type": "code",
   "execution_count": 10,
   "id": "e5c71fcc",
   "metadata": {},
   "outputs": [],
   "source": [
    "from langchain_chroma import Chroma\n",
    "from langchain_openai import OpenAIEmbeddings\n",
    "db = Chroma.from_documents(documents, OpenAIEmbeddings())"
   ]
  },
  {
   "cell_type": "code",
   "execution_count": 11,
   "id": "35c9a0fb",
   "metadata": {},
   "outputs": [],
   "source": [
    "retriever = db.as_retriever(search_kwargs={\"k\": 10})"
   ]
  },
  {
   "cell_type": "code",
   "execution_count": 12,
   "id": "1fb2a70e",
   "metadata": {},
   "outputs": [],
   "source": [
    "from langchain import hub\n",
    "prompt = hub.pull(\"rlm/rag-prompt\")"
   ]
  },
  {
   "cell_type": "code",
   "execution_count": 13,
   "id": "c6fb6e9f",
   "metadata": {},
   "outputs": [
    {
     "data": {
      "text/plain": [
       "ChatPromptTemplate(input_variables=['context', 'question'], metadata={'lc_hub_owner': 'rlm', 'lc_hub_repo': 'rag-prompt', 'lc_hub_commit_hash': '50442af133e61576e74536c6556cefe1fac147cad032f4377b60c436e6cdcb6e'}, messages=[HumanMessagePromptTemplate(prompt=PromptTemplate(input_variables=['context', 'question'], template=\"You are an assistant for question-answering tasks. Use the following pieces of retrieved context to answer the question. If you don't know the answer, just say that you don't know. Use three sentences maximum and keep the answer concise.\\nQuestion: {question} \\nContext: {context} \\nAnswer:\"))])"
      ]
     },
     "execution_count": 13,
     "metadata": {},
     "output_type": "execute_result"
    }
   ],
   "source": [
    "prompt"
   ]
  },
  {
   "cell_type": "code",
   "execution_count": 14,
   "id": "cd1d1eaf",
   "metadata": {},
   "outputs": [],
   "source": [
    "llm = ChatGroq(temperature=0, groq_api_key=GROQ_API_KEY, model_name=\"llama3-70b-8192\")"
   ]
  },
  {
   "cell_type": "code",
   "execution_count": 15,
   "id": "600a6746",
   "metadata": {},
   "outputs": [],
   "source": [
    "from langchain_core.runnables import RunnablePassthrough\n",
    "from langchain_core.output_parsers import StrOutputParser\n",
    "\n",
    "def format_docs(docs):\n",
    "    return \"\\n\\n\".join(doc.page_content for doc in docs)\n",
    "\n",
    "rag_chain = (\n",
    "    {\"context\": retriever, \"question\": RunnablePassthrough()}\n",
    "    | prompt\n",
    "    | llm\n",
    "    | StrOutputParser()\n",
    ")"
   ]
  },
  {
   "cell_type": "code",
   "execution_count": 16,
   "id": "b0c8d3ae",
   "metadata": {},
   "outputs": [],
   "source": [
    "query = f'''\n",
    "The given document is either a health or term insurance policy prospectus or brochure. \n",
    "Your task is to provide important points from the exclusions for Niva Bupa Health Insurance that users should know before opting for the policy.\n",
    "Instructions:\n",
    "- Be as concise as possible.\n",
    "- Each point should be in bullet points.\n",
    "'''"
   ]
  },
  {
   "cell_type": "code",
   "execution_count": 17,
   "id": "b1ef6d0d",
   "metadata": {},
   "outputs": [
    {
     "data": {
      "text/plain": [
       "'Here are the important points from the exclusions of Niva Bupa Health Insurance that users should know before opting for the policy:\\n\\n• Expenses related to the treatment of certain diseases/procedures (e.g., cataract, hernia, osteoarthritis) are excluded until the expiry of 24 months/12 months of continuous coverage.\\n• Cosmetic or plastic surgery, or any treatment to change appearance, unless for reconstruction following an Accident, Burn(s) or Cancer.\\n• Expenses related to hazardous or adventure sports, including but not limited to, para-jumping, rock climbing, mountaineering, rafting, motor racing, horse racing or scuba diving.\\n• Expenses for treatment directly arising from or consequent upon any Insured Person committing or attempting to commit a breach of law with criminal intent.\\n• Expenses incurred towards treatment in any Hospital or by any Medical Practitioner or any other provider specifically excluded by the insurer.\\n• Treatment for, alcoholism, drug or substance abuse or any addictive condition and consequences thereof.\\n• Refractive Error less than 7.5 dioptres.'"
      ]
     },
     "execution_count": 17,
     "metadata": {},
     "output_type": "execute_result"
    }
   ],
   "source": [
    "rag_chain.invoke(query)"
   ]
  },
  {
   "cell_type": "markdown",
   "id": "52958f42",
   "metadata": {},
   "source": [
    "## Structured Output Parsers"
   ]
  },
  {
   "cell_type": "code",
   "execution_count": 36,
   "id": "80f62fa7",
   "metadata": {},
   "outputs": [],
   "source": [
    "from langchain.output_parsers import ResponseSchema, StructuredOutputParser\n",
    "from langchain_core.prompts import PromptTemplate\n",
    "from langchain_openai import ChatOpenAI"
   ]
  },
  {
   "cell_type": "code",
   "execution_count": 37,
   "id": "48f8b018",
   "metadata": {},
   "outputs": [],
   "source": [
    "response_schemas = [\n",
    "    ResponseSchema(name=\"Subsections\", description=\"Extract all the subsections from a specific section of the document as a list\")\n",
    "]\n",
    "output_parser = StructuredOutputParser.from_response_schemas(response_schemas)"
   ]
  },
  {
   "cell_type": "code",
   "execution_count": 38,
   "id": "56c1223d",
   "metadata": {},
   "outputs": [],
   "source": [
    "format_instructions = output_parser.get_format_instructions()"
   ]
  },
  {
   "cell_type": "code",
   "execution_count": 39,
   "id": "e95694a7",
   "metadata": {},
   "outputs": [
    {
     "data": {
      "text/plain": [
       "'The output should be a markdown code snippet formatted in the following schema, including the leading and trailing \"```json\" and \"```\":\\n\\n```json\\n{\\n\\t\"Subsections\": string  // Extract all the subsections from a specific section of the document as a list\\n}\\n```'"
      ]
     },
     "execution_count": 39,
     "metadata": {},
     "output_type": "execute_result"
    }
   ],
   "source": [
    "format_instructions"
   ]
  },
  {
   "cell_type": "code",
   "execution_count": 40,
   "id": "03c4f678",
   "metadata": {},
   "outputs": [
    {
     "data": {
      "text/plain": [
       "StructuredOutputParser(response_schemas=[ResponseSchema(name='Subsections', description='Extract all the subsections from a specific section of the document as a list', type='string')])"
      ]
     },
     "execution_count": 40,
     "metadata": {},
     "output_type": "execute_result"
    }
   ],
   "source": [
    "output_parser"
   ]
  },
  {
   "cell_type": "code",
   "execution_count": 48,
   "id": "eeab4a40",
   "metadata": {},
   "outputs": [],
   "source": [
    "template_string = \"\"\"You are an assistant for question-answering tasks. \n",
    "Use the following pieces of retrieved context to answer the question. \n",
    "If you don't know the answer, just say that you don't know. \n",
    "Take the question, and context in the below delimited by triple backticks and use it to answer the specific query.\n",
    "question: ```{question}```\n",
    "context: ```{context}```\n",
    "{format_instructions}\n",
    "Subsections:\n",
    "\"\"\""
   ]
  },
  {
   "cell_type": "code",
   "execution_count": 49,
   "id": "012b874f",
   "metadata": {},
   "outputs": [],
   "source": [
    "from langchain.prompts import PromptTemplate, ChatPromptTemplate, HumanMessagePromptTemplate\n",
    "prompt2 = ChatPromptTemplate(\n",
    "    messages=[\n",
    "        HumanMessagePromptTemplate.from_template(template_string)  \n",
    "    ],\n",
    "    input_variables=[\"context\"],\n",
    "    partial_variables={\"format_instructions\": format_instructions},\n",
    "    output_parser=output_parser # here we add the output parser to the Prompt template\n",
    ")"
   ]
  },
  {
   "cell_type": "code",
   "execution_count": 55,
   "id": "c37be5d0",
   "metadata": {},
   "outputs": [],
   "source": [
    "\n",
    "from langchain_core.runnables import RunnableParallel\n",
    "\n",
    "rag_chain = (\n",
    "    {\"context\": retriever, \"question\": RunnablePassthrough()}\n",
    "    | prompt2\n",
    "    | llm\n",
    "    | StrOutputParser()\n",
    ")"
   ]
  },
  {
   "cell_type": "code",
   "execution_count": 56,
   "id": "fbd8ec1d",
   "metadata": {},
   "outputs": [],
   "source": [
    "output = rag_chain.invoke(\"List all the subsections of Exclusions section.\")"
   ]
  },
  {
   "cell_type": "code",
   "execution_count": 62,
   "id": "1ce7a757",
   "metadata": {},
   "outputs": [],
   "source": [
    "import json\n",
    "output2 = dictionary = json.loads(output)"
   ]
  },
  {
   "cell_type": "code",
   "execution_count": 63,
   "id": "b51683d0",
   "metadata": {},
   "outputs": [
    {
     "data": {
      "text/plain": [
       "{'Subsections': ['4.1.3. 30-day waiting period (Code- Excl03)',\n",
       "  '4.1.4. Investigation & Evaluation (Code-Excl04)',\n",
       "  '4.1.5. Rest Cure, rehabilitation and respite care (Code-Excl05)',\n",
       "  '4.1.6. Obesity/ Weight Control (Code-Excl06)',\n",
       "  '4.1.8. Hazardous or Adventure sports (Code-Excl09)',\n",
       "  '4.1.9. Breach of law (Code-Excl10)',\n",
       "  '4.1.10. Excluded Providers (Code-Excl11)',\n",
       "  '4.1.11. Treatment for, alcoholism, drug or substance abuse or any addictive condition and consequences thereof. (Code-Excl12)',\n",
       "  '4.1.12. Treatments received in heath hydros, nature cure clinics, spas or similar establishments or private beds registered as a nursing home attached to such establishments or where admission is arranged wholly or partly for domestic reasons. (Code-Excl13)',\n",
       "  '4.1.13. Refractive Error (Code-Excl15)',\n",
       "  '4.1.14. Unproven Treatments (Code-Excl16)',\n",
       "  '4.2.1. Personal Waiting Period',\n",
       "  '4.2.2. Conflict & Disaster:',\n",
       "  '4.2.3. External Congenital Anomaly:',\n",
       "  '4.2.4. Dental treatment:',\n",
       "  '4.2.5. Unrecognized Physician or Hospital:']}"
      ]
     },
     "execution_count": 63,
     "metadata": {},
     "output_type": "execute_result"
    }
   ],
   "source": [
    "output2"
   ]
  },
  {
   "cell_type": "code",
   "execution_count": 65,
   "id": "bef7b235",
   "metadata": {},
   "outputs": [
    {
     "name": "stdout",
     "output_type": "stream",
     "text": [
      "Summary of Exclusion 4.1.3. 30-day waiting period (Code- Excl03)\n",
      "Here are the important points from the exclusions 4.1.3. 30-day waiting period (Code- Excl03):\n",
      "\n",
      "• Expenses related to the treatment of any Illness within 30 days from the first Policy commencement date shall be excluded, except claims arising due to an Accident, provided the same are covered.\n",
      "• This exclusion shall not apply if the Insured Person has continuous coverage for more than twelve months.\n",
      "• The within referred waiting period is made applicable to the enhanced Sum Insured in the event of granting higher Sum Insured subsequently.\n",
      "----------------\n",
      "Summary of Exclusion 4.1.4. Investigation & Evaluation (Code-Excl04)\n",
      "Here are the important points from the exclusions section 4.1.4. Investigation & Evaluation (Code-Excl04):\n",
      "\n",
      "• Expenses related to any admission primarily for diagnostics and evaluation purposes only are excluded.\n",
      "• Any diagnostic expenses which are not related or not incidental to the current diagnosis and treatment are excluded.\n",
      "----------------\n",
      "Summary of Exclusion 4.1.5. Rest Cure, rehabilitation and respite care (Code-Excl05)\n",
      "Here are the important points from the exclusions 4.1.5. Rest Cure, rehabilitation and respite care (Code-Excl05):\n",
      "\n",
      "• Expenses related to any admission primarily for enforced bed rest and not for receiving treatment.\n",
      "• Custodial care either at home or in a nursing facility for personal care such as help with activities of daily living.\n",
      "• Any services for people who are terminally ill to address physical, social, emotional and spiritual needs.\n",
      "----------------\n",
      "Summary of Exclusion 4.1.6. Obesity/ Weight Control (Code-Excl06)\n",
      "Here are the important points from the exclusions 4.1.6. Obesity/ Weight Control (Code-Excl06):\n",
      "\n",
      "• Expenses related to the surgical treatment of obesity that does not fulfill all the below conditions:\n",
      "  • Surgery to be conducted is upon the advice of the Doctor.\n",
      "  • The surgery/Procedure conducted should be supported by clinical protocols.\n",
      "  • The member has to be 18 years of age or older.\n",
      "  • Body Mass Index (BMI) greater than or equal to 40 or greater than or equal to 35 in conjunction with any of the following severe co-morbidities following failure of less invasive methods of weight loss.\n",
      "----------------\n",
      "Summary of Exclusion 4.1.8. Hazardous or Adventure sports (Code-Excl09)\n",
      "Here are the important points from the exclusions 4.1.8. Hazardous or Adventure sports (Code-Excl09):\n",
      "\n",
      "• Expenses related to any treatment necessitated due to participation as a professional in hazardous or adventure sports are excluded.\n",
      "• Examples of such sports include para-jumping, rock climbing, mountaineering, rafting, motor racing, horse racing, or scuba diving, hand gliding, sky diving, deep-sea diving.\n",
      "----------------\n"
     ]
    }
   ],
   "source": [
    "for i in output2['Subsections'][:5]:\n",
    "    query = f'''\n",
    "    The given document is either a health or term insurance policy prospectus or brochure. \n",
    "    Your task is to provide important points from the exclusions {i} from the give document that users should know before opting for the policy.\n",
    "    Instructions:\n",
    "    - Be as concise as possible.\n",
    "    - Each point should be in bullet points.\n",
    "    '''\n",
    "    prompt = hub.pull(\"rlm/rag-prompt\")\n",
    "    llm = ChatGroq(temperature=0, groq_api_key=GROQ_API_KEY, model_name=\"llama3-70b-8192\")    \n",
    "    rag_chain = (\n",
    "        {\"context\": retriever, \"question\": RunnablePassthrough()}\n",
    "        | prompt\n",
    "        | llm\n",
    "        | StrOutputParser()\n",
    "    )\n",
    "    print(f\"Summary of Exclusion {i}\")\n",
    "    print(rag_chain.invoke(query))\n",
    "    print(\"----------------\")\n",
    "    "
   ]
  },
  {
   "cell_type": "code",
   "execution_count": null,
   "id": "1ba6c3f2",
   "metadata": {},
   "outputs": [],
   "source": []
  }
 ],
 "metadata": {
  "kernelspec": {
   "display_name": "Python 3 (ipykernel)",
   "language": "python",
   "name": "python3"
  },
  "language_info": {
   "codemirror_mode": {
    "name": "ipython",
    "version": 3
   },
   "file_extension": ".py",
   "mimetype": "text/x-python",
   "name": "python",
   "nbconvert_exporter": "python",
   "pygments_lexer": "ipython3",
   "version": "3.9.12"
  }
 },
 "nbformat": 4,
 "nbformat_minor": 5
}
